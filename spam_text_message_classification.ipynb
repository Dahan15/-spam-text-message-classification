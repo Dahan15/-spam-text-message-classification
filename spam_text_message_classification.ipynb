{
  "metadata": {
    "kernelspec": {
      "language": "python",
      "display_name": "Python 3",
      "name": "python3"
    },
    "language_info": {
      "name": "python",
      "version": "3.10.13",
      "mimetype": "text/x-python",
      "codemirror_mode": {
        "name": "ipython",
        "version": 3
      },
      "pygments_lexer": "ipython3",
      "nbconvert_exporter": "python",
      "file_extension": ".py"
    },
    "kaggle": {
      "accelerator": "none",
      "dataSources": [
        {
          "sourceId": 3494,
          "sourceType": "datasetVersion",
          "datasetId": 2050
        }
      ],
      "dockerImageVersionId": 30698,
      "isInternetEnabled": true,
      "language": "python",
      "sourceType": "notebook",
      "isGpuEnabled": false
    },
    "colab": {
      "name": " spam-text-message-classification",
      "provenance": [],
      "include_colab_link": true
    }
  },
  "nbformat_minor": 0,
  "nbformat": 4,
  "cells": [
    {
      "cell_type": "markdown",
      "metadata": {
        "id": "view-in-github",
        "colab_type": "text"
      },
      "source": [
        "<a href=\"https://colab.research.google.com/github/Dahan15/-spam-text-message-classification/blob/main/spam_text_message_classification.ipynb\" target=\"_parent\"><img src=\"https://colab.research.google.com/assets/colab-badge.svg\" alt=\"Open In Colab\"/></a>"
      ]
    },
    {
      "source": [
        "# IMPORTANT: RUN THIS CELL IN ORDER TO IMPORT YOUR KAGGLE DATA SOURCES,\n",
        "# THEN FEEL FREE TO DELETE THIS CELL.\n",
        "# NOTE: THIS NOTEBOOK ENVIRONMENT DIFFERS FROM KAGGLE'S PYTHON\n",
        "# ENVIRONMENT SO THERE MAY BE MISSING LIBRARIES USED BY YOUR\n",
        "# NOTEBOOK.\n",
        "import kagglehub\n",
        "organizations_team_ai_spam_text_message_classification_path = kagglehub.dataset_download('organizations/team-ai/spam-text-message-classification')\n",
        "\n",
        "print('Data source import complete.')\n"
      ],
      "metadata": {
        "id": "eDPIn3vNVsyY"
      },
      "cell_type": "code",
      "outputs": [],
      "execution_count": null
    },
    {
      "cell_type": "code",
      "source": [
        "import os\n",
        "for dirname, _, filenames in os.walk('/kaggle/input'):\n",
        "    for filename in filenames:\n",
        "        print(os.path.join(dirname, filename))\n"
      ],
      "metadata": {
        "_uuid": "8f2839f25d086af736a60e9eeb907d3b93b6e0e5",
        "_cell_guid": "b1076dfc-b9ad-4769-8c92-a6c4dae69d19",
        "execution": {
          "iopub.status.busy": "2025-05-24T19:10:41.73552Z",
          "iopub.execute_input": "2025-05-24T19:10:41.735938Z",
          "iopub.status.idle": "2025-05-24T19:10:41.78219Z",
          "shell.execute_reply.started": "2025-05-24T19:10:41.735894Z",
          "shell.execute_reply": "2025-05-24T19:10:41.780966Z"
        },
        "trusted": true,
        "id": "d72GyEKoVsyc",
        "outputId": "cf28a818-adcb-4bec-8b47-71d323a9f345"
      },
      "outputs": [
        {
          "name": "stdout",
          "text": "/kaggle/input/spam-text-message-classification/SPAM text message 20170820 - Data.csv\n",
          "output_type": "stream"
        }
      ],
      "execution_count": null
    },
    {
      "cell_type": "code",
      "source": [
        "import pandas as pd\n",
        "import tensorflow_datasets as tfds\n",
        "import tensorflow as tf\n",
        "from tensorflow.keras.preprocessing.text import Tokenizer\n",
        "from tensorflow.keras.preprocessing.sequence import pad_sequences\n",
        "from tensorflow.keras.utils import to_categorical\n",
        "import tensorflow_hub as hub\n",
        "from sklearn.model_selection import train_test_split\n",
        "from tensorflow.keras.models import Sequential\n",
        "from tensorflow.keras.layers import Embedding, SimpleRNN,Conv1D, GlobalMaxPooling1D, LSTM, GRU, Bidirectional, Dense,Flatten"
      ],
      "metadata": {
        "execution": {
          "iopub.status.busy": "2025-05-24T19:10:41.784412Z",
          "iopub.execute_input": "2025-05-24T19:10:41.784898Z",
          "iopub.status.idle": "2025-05-24T19:10:58.822685Z",
          "shell.execute_reply.started": "2025-05-24T19:10:41.784851Z",
          "shell.execute_reply": "2025-05-24T19:10:58.821767Z"
        },
        "trusted": true,
        "id": "TrbZdabYVsyf",
        "outputId": "3a42d754-4a6e-41ae-b79a-4acdfd46609b"
      },
      "outputs": [
        {
          "name": "stderr",
          "text": "2025-05-24 19:10:46.618457: E external/local_xla/xla/stream_executor/cuda/cuda_dnn.cc:9261] Unable to register cuDNN factory: Attempting to register factory for plugin cuDNN when one has already been registered\n2025-05-24 19:10:46.618645: E external/local_xla/xla/stream_executor/cuda/cuda_fft.cc:607] Unable to register cuFFT factory: Attempting to register factory for plugin cuFFT when one has already been registered\n2025-05-24 19:10:46.760523: E external/local_xla/xla/stream_executor/cuda/cuda_blas.cc:1515] Unable to register cuBLAS factory: Attempting to register factory for plugin cuBLAS when one has already been registered\n",
          "output_type": "stream"
        }
      ],
      "execution_count": null
    },
    {
      "cell_type": "code",
      "source": [
        "df=pd.read_csv(\"/kaggle/input/spam-text-message-classification/SPAM text message 20170820 - Data.csv\")\n",
        "df"
      ],
      "metadata": {
        "execution": {
          "iopub.status.busy": "2025-05-24T19:10:58.82413Z",
          "iopub.execute_input": "2025-05-24T19:10:58.824988Z",
          "iopub.status.idle": "2025-05-24T19:10:58.872476Z",
          "shell.execute_reply.started": "2025-05-24T19:10:58.824932Z",
          "shell.execute_reply": "2025-05-24T19:10:58.871329Z"
        },
        "trusted": true,
        "id": "VQDQQFvfVsyg",
        "outputId": "c71a2b05-3bea-4420-99ad-5cfb4b4932eb"
      },
      "outputs": [
        {
          "execution_count": 3,
          "output_type": "execute_result",
          "data": {
            "text/plain": "     Category                                            Message\n0         ham  Go until jurong point, crazy.. Available only ...\n1         ham                      Ok lar... Joking wif u oni...\n2        spam  Free entry in 2 a wkly comp to win FA Cup fina...\n3         ham  U dun say so early hor... U c already then say...\n4         ham  Nah I don't think he goes to usf, he lives aro...\n...       ...                                                ...\n5567     spam  This is the 2nd time we have tried 2 contact u...\n5568      ham               Will ü b going to esplanade fr home?\n5569      ham  Pity, * was in mood for that. So...any other s...\n5570      ham  The guy did some bitching but I acted like i'd...\n5571      ham                         Rofl. Its true to its name\n\n[5572 rows x 2 columns]",
            "text/html": "<div>\n<style scoped>\n    .dataframe tbody tr th:only-of-type {\n        vertical-align: middle;\n    }\n\n    .dataframe tbody tr th {\n        vertical-align: top;\n    }\n\n    .dataframe thead th {\n        text-align: right;\n    }\n</style>\n<table border=\"1\" class=\"dataframe\">\n  <thead>\n    <tr style=\"text-align: right;\">\n      <th></th>\n      <th>Category</th>\n      <th>Message</th>\n    </tr>\n  </thead>\n  <tbody>\n    <tr>\n      <th>0</th>\n      <td>ham</td>\n      <td>Go until jurong point, crazy.. Available only ...</td>\n    </tr>\n    <tr>\n      <th>1</th>\n      <td>ham</td>\n      <td>Ok lar... Joking wif u oni...</td>\n    </tr>\n    <tr>\n      <th>2</th>\n      <td>spam</td>\n      <td>Free entry in 2 a wkly comp to win FA Cup fina...</td>\n    </tr>\n    <tr>\n      <th>3</th>\n      <td>ham</td>\n      <td>U dun say so early hor... U c already then say...</td>\n    </tr>\n    <tr>\n      <th>4</th>\n      <td>ham</td>\n      <td>Nah I don't think he goes to usf, he lives aro...</td>\n    </tr>\n    <tr>\n      <th>...</th>\n      <td>...</td>\n      <td>...</td>\n    </tr>\n    <tr>\n      <th>5567</th>\n      <td>spam</td>\n      <td>This is the 2nd time we have tried 2 contact u...</td>\n    </tr>\n    <tr>\n      <th>5568</th>\n      <td>ham</td>\n      <td>Will ü b going to esplanade fr home?</td>\n    </tr>\n    <tr>\n      <th>5569</th>\n      <td>ham</td>\n      <td>Pity, * was in mood for that. So...any other s...</td>\n    </tr>\n    <tr>\n      <th>5570</th>\n      <td>ham</td>\n      <td>The guy did some bitching but I acted like i'd...</td>\n    </tr>\n    <tr>\n      <th>5571</th>\n      <td>ham</td>\n      <td>Rofl. Its true to its name</td>\n    </tr>\n  </tbody>\n</table>\n<p>5572 rows × 2 columns</p>\n</div>"
          },
          "metadata": {}
        }
      ],
      "execution_count": null
    },
    {
      "cell_type": "code",
      "source": [
        "label=df[\"Category\"].astype('category').cat.codes\n",
        "label"
      ],
      "metadata": {
        "execution": {
          "iopub.status.busy": "2025-05-24T19:15:36.853472Z",
          "iopub.execute_input": "2025-05-24T19:15:36.854366Z",
          "iopub.status.idle": "2025-05-24T19:15:36.864014Z",
          "shell.execute_reply.started": "2025-05-24T19:15:36.85433Z",
          "shell.execute_reply": "2025-05-24T19:15:36.863029Z"
        },
        "trusted": true,
        "id": "LfgPbQhLVsyh",
        "outputId": "53845a9c-1ec5-4779-a980-262d60ed131d"
      },
      "outputs": [
        {
          "execution_count": 15,
          "output_type": "execute_result",
          "data": {
            "text/plain": "0       0\n1       0\n2       1\n3       0\n4       0\n       ..\n5567    1\n5568    0\n5569    0\n5570    0\n5571    0\nLength: 5572, dtype: int8"
          },
          "metadata": {}
        }
      ],
      "execution_count": null
    },
    {
      "cell_type": "code",
      "source": [
        "test=df[4457:]\n",
        "test_text=test[\"Message\"]\n",
        "test_label=test[\"Category\"].astype('category').cat.codes\n",
        "test_label"
      ],
      "metadata": {
        "execution": {
          "iopub.status.busy": "2025-05-24T19:10:58.905142Z",
          "iopub.execute_input": "2025-05-24T19:10:58.905874Z",
          "iopub.status.idle": "2025-05-24T19:10:58.920216Z",
          "shell.execute_reply.started": "2025-05-24T19:10:58.905834Z",
          "shell.execute_reply": "2025-05-24T19:10:58.918986Z"
        },
        "jupyter": {
          "source_hidden": true
        },
        "trusted": true,
        "id": "ycuqdUH3Vsyi",
        "outputId": "0f5bf6d4-8c3d-476e-c3fd-d080f39814ac"
      },
      "outputs": [
        {
          "execution_count": 6,
          "output_type": "execute_result",
          "data": {
            "text/plain": "4457    0\n4458    0\n4459    0\n4460    1\n4461    0\n       ..\n5567    1\n5568    0\n5569    0\n5570    0\n5571    0\nLength: 1115, dtype: int8"
          },
          "metadata": {}
        }
      ],
      "execution_count": null
    },
    {
      "cell_type": "code",
      "source": [
        "tokenizer = Tokenizer(num_words=1000,oov_token=\"<OOV>\")\n",
        "tokenizer.fit_on_texts(df[\"Message\"])\n",
        "sequences = tokenizer.texts_to_sequences(df[\"Message\"])\n",
        "sequences = pad_sequences(sequences, padding='post')\n",
        "len_sequences=len(sequences)\n",
        "s=sequences.shape[1]"
      ],
      "metadata": {
        "execution": {
          "iopub.status.busy": "2025-05-24T19:17:20.318908Z",
          "iopub.execute_input": "2025-05-24T19:17:20.319581Z",
          "iopub.status.idle": "2025-05-24T19:17:20.548006Z",
          "shell.execute_reply.started": "2025-05-24T19:17:20.319527Z",
          "shell.execute_reply": "2025-05-24T19:17:20.546678Z"
        },
        "trusted": true,
        "id": "4O_QZr2FVsyj"
      },
      "outputs": [],
      "execution_count": null
    },
    {
      "cell_type": "code",
      "source": [
        "X_train, X_test, y_train, y_test = train_test_split(sequences, label, test_size=0.2, random_state=42)"
      ],
      "metadata": {
        "trusted": true,
        "execution": {
          "iopub.status.busy": "2025-05-24T19:17:44.70701Z",
          "iopub.execute_input": "2025-05-24T19:17:44.707398Z",
          "iopub.status.idle": "2025-05-24T19:17:44.720167Z",
          "shell.execute_reply.started": "2025-05-24T19:17:44.707369Z",
          "shell.execute_reply": "2025-05-24T19:17:44.719024Z"
        },
        "id": "xFZ9iRTMVsyj"
      },
      "outputs": [],
      "execution_count": null
    },
    {
      "cell_type": "code",
      "source": [
        "embedding_dim = 128\n",
        "# Create the model\n",
        "model = tf.keras.Sequential([\n",
        "    tf.keras.layers.Embedding(1000, embedding_dim, input_length=len_sequences),\n",
        "    tf.keras.layers.Dense(128, activation='tanh'),\n",
        "    tf.keras.layers.Dense(512, activation='tanh'),\n",
        "    tf.keras.layers.GlobalAveragePooling1D(),\n",
        "    tf.keras.layers.Dense(256, activation='tanh'),\n",
        "    tf.keras.layers.Dense(1, activation='sigmoid')\n",
        "])\n",
        "\n",
        "# Compile the model\n",
        "model.compile(loss='binary_crossentropy', optimizer=tf.keras.optimizers.Adam(learning_rate=0.001), metrics=['accuracy'])\n",
        "\n",
        "# Train the model\n",
        "\n",
        "\n",
        "model.summary()"
      ],
      "metadata": {
        "execution": {
          "iopub.status.busy": "2025-05-24T19:32:24.329916Z",
          "iopub.execute_input": "2025-05-24T19:32:24.330756Z",
          "iopub.status.idle": "2025-05-24T19:32:24.365935Z",
          "shell.execute_reply.started": "2025-05-24T19:32:24.330721Z",
          "shell.execute_reply": "2025-05-24T19:32:24.364627Z"
        },
        "trusted": true,
        "id": "lDk0B3PNVsyk",
        "outputId": "0de13410-846e-4ee2-a7df-d22c2965797d"
      },
      "outputs": [
        {
          "output_type": "display_data",
          "data": {
            "text/plain": "\u001b[1mModel: \"sequential_5\"\u001b[0m\n",
            "text/html": "<pre style=\"white-space:pre;overflow-x:auto;line-height:normal;font-family:Menlo,'DejaVu Sans Mono',consolas,'Courier New',monospace\"><span style=\"font-weight: bold\">Model: \"sequential_5\"</span>\n</pre>\n"
          },
          "metadata": {}
        },
        {
          "output_type": "display_data",
          "data": {
            "text/plain": "┏━━━━━━━━━━━━━━━━━━━━━━━━━━━━━━━━━┳━━━━━━━━━━━━━━━━━━━━━━━━┳━━━━━━━━━━━━━━━┓\n┃\u001b[1m \u001b[0m\u001b[1mLayer (type)                   \u001b[0m\u001b[1m \u001b[0m┃\u001b[1m \u001b[0m\u001b[1mOutput Shape          \u001b[0m\u001b[1m \u001b[0m┃\u001b[1m \u001b[0m\u001b[1m      Param #\u001b[0m\u001b[1m \u001b[0m┃\n┡━━━━━━━━━━━━━━━━━━━━━━━━━━━━━━━━━╇━━━━━━━━━━━━━━━━━━━━━━━━╇━━━━━━━━━━━━━━━┩\n│ embedding_5 (\u001b[38;5;33mEmbedding\u001b[0m)         │ ?                      │   \u001b[38;5;34m0\u001b[0m (unbuilt) │\n├─────────────────────────────────┼────────────────────────┼───────────────┤\n│ dense_14 (\u001b[38;5;33mDense\u001b[0m)                │ ?                      │   \u001b[38;5;34m0\u001b[0m (unbuilt) │\n├─────────────────────────────────┼────────────────────────┼───────────────┤\n│ dense_15 (\u001b[38;5;33mDense\u001b[0m)                │ ?                      │   \u001b[38;5;34m0\u001b[0m (unbuilt) │\n├─────────────────────────────────┼────────────────────────┼───────────────┤\n│ global_average_pooling1d_5      │ ?                      │   \u001b[38;5;34m0\u001b[0m (unbuilt) │\n│ (\u001b[38;5;33mGlobalAveragePooling1D\u001b[0m)        │                        │               │\n├─────────────────────────────────┼────────────────────────┼───────────────┤\n│ dense_16 (\u001b[38;5;33mDense\u001b[0m)                │ ?                      │   \u001b[38;5;34m0\u001b[0m (unbuilt) │\n├─────────────────────────────────┼────────────────────────┼───────────────┤\n│ dense_17 (\u001b[38;5;33mDense\u001b[0m)                │ ?                      │   \u001b[38;5;34m0\u001b[0m (unbuilt) │\n└─────────────────────────────────┴────────────────────────┴───────────────┘\n",
            "text/html": "<pre style=\"white-space:pre;overflow-x:auto;line-height:normal;font-family:Menlo,'DejaVu Sans Mono',consolas,'Courier New',monospace\">┏━━━━━━━━━━━━━━━━━━━━━━━━━━━━━━━━━┳━━━━━━━━━━━━━━━━━━━━━━━━┳━━━━━━━━━━━━━━━┓\n┃<span style=\"font-weight: bold\"> Layer (type)                    </span>┃<span style=\"font-weight: bold\"> Output Shape           </span>┃<span style=\"font-weight: bold\">       Param # </span>┃\n┡━━━━━━━━━━━━━━━━━━━━━━━━━━━━━━━━━╇━━━━━━━━━━━━━━━━━━━━━━━━╇━━━━━━━━━━━━━━━┩\n│ embedding_5 (<span style=\"color: #0087ff; text-decoration-color: #0087ff\">Embedding</span>)         │ ?                      │   <span style=\"color: #00af00; text-decoration-color: #00af00\">0</span> (unbuilt) │\n├─────────────────────────────────┼────────────────────────┼───────────────┤\n│ dense_14 (<span style=\"color: #0087ff; text-decoration-color: #0087ff\">Dense</span>)                │ ?                      │   <span style=\"color: #00af00; text-decoration-color: #00af00\">0</span> (unbuilt) │\n├─────────────────────────────────┼────────────────────────┼───────────────┤\n│ dense_15 (<span style=\"color: #0087ff; text-decoration-color: #0087ff\">Dense</span>)                │ ?                      │   <span style=\"color: #00af00; text-decoration-color: #00af00\">0</span> (unbuilt) │\n├─────────────────────────────────┼────────────────────────┼───────────────┤\n│ global_average_pooling1d_5      │ ?                      │   <span style=\"color: #00af00; text-decoration-color: #00af00\">0</span> (unbuilt) │\n│ (<span style=\"color: #0087ff; text-decoration-color: #0087ff\">GlobalAveragePooling1D</span>)        │                        │               │\n├─────────────────────────────────┼────────────────────────┼───────────────┤\n│ dense_16 (<span style=\"color: #0087ff; text-decoration-color: #0087ff\">Dense</span>)                │ ?                      │   <span style=\"color: #00af00; text-decoration-color: #00af00\">0</span> (unbuilt) │\n├─────────────────────────────────┼────────────────────────┼───────────────┤\n│ dense_17 (<span style=\"color: #0087ff; text-decoration-color: #0087ff\">Dense</span>)                │ ?                      │   <span style=\"color: #00af00; text-decoration-color: #00af00\">0</span> (unbuilt) │\n└─────────────────────────────────┴────────────────────────┴───────────────┘\n</pre>\n"
          },
          "metadata": {}
        },
        {
          "output_type": "display_data",
          "data": {
            "text/plain": "\u001b[1m Total params: \u001b[0m\u001b[38;5;34m0\u001b[0m (0.00 B)\n",
            "text/html": "<pre style=\"white-space:pre;overflow-x:auto;line-height:normal;font-family:Menlo,'DejaVu Sans Mono',consolas,'Courier New',monospace\"><span style=\"font-weight: bold\"> Total params: </span><span style=\"color: #00af00; text-decoration-color: #00af00\">0</span> (0.00 B)\n</pre>\n"
          },
          "metadata": {}
        },
        {
          "output_type": "display_data",
          "data": {
            "text/plain": "\u001b[1m Trainable params: \u001b[0m\u001b[38;5;34m0\u001b[0m (0.00 B)\n",
            "text/html": "<pre style=\"white-space:pre;overflow-x:auto;line-height:normal;font-family:Menlo,'DejaVu Sans Mono',consolas,'Courier New',monospace\"><span style=\"font-weight: bold\"> Trainable params: </span><span style=\"color: #00af00; text-decoration-color: #00af00\">0</span> (0.00 B)\n</pre>\n"
          },
          "metadata": {}
        },
        {
          "output_type": "display_data",
          "data": {
            "text/plain": "\u001b[1m Non-trainable params: \u001b[0m\u001b[38;5;34m0\u001b[0m (0.00 B)\n",
            "text/html": "<pre style=\"white-space:pre;overflow-x:auto;line-height:normal;font-family:Menlo,'DejaVu Sans Mono',consolas,'Courier New',monospace\"><span style=\"font-weight: bold\"> Non-trainable params: </span><span style=\"color: #00af00; text-decoration-color: #00af00\">0</span> (0.00 B)\n</pre>\n"
          },
          "metadata": {}
        }
      ],
      "execution_count": null
    },
    {
      "cell_type": "code",
      "source": [
        "history = model.fit(X_train, y_train, batch_size=128, epochs=50, validation_data=(X_test, y_test), callbacks=[tf.keras.callbacks.EarlyStopping(monitor='val_loss', patience=5)])"
      ],
      "metadata": {
        "execution": {
          "iopub.status.busy": "2025-05-24T19:32:27.29102Z",
          "iopub.execute_input": "2025-05-24T19:32:27.291403Z",
          "iopub.status.idle": "2025-05-24T19:41:13.69567Z",
          "shell.execute_reply.started": "2025-05-24T19:32:27.291374Z",
          "shell.execute_reply": "2025-05-24T19:41:13.694625Z"
        },
        "trusted": true,
        "id": "z6kKs9vmVsyl",
        "outputId": "e86a5d3e-406e-4538-ed8f-21006da6d5c3"
      },
      "outputs": [
        {
          "name": "stdout",
          "text": "Epoch 1/50\n\u001b[1m35/35\u001b[0m \u001b[32m━━━━━━━━━━━━━━━━━━━━\u001b[0m\u001b[37m\u001b[0m \u001b[1m13s\u001b[0m 307ms/step - accuracy: 0.7746 - loss: 0.4330 - val_accuracy: 0.8664 - val_loss: 0.3680\nEpoch 2/50\n\u001b[1m35/35\u001b[0m \u001b[32m━━━━━━━━━━━━━━━━━━━━\u001b[0m\u001b[37m\u001b[0m \u001b[1m10s\u001b[0m 288ms/step - accuracy: 0.8636 - loss: 0.3646 - val_accuracy: 0.8834 - val_loss: 0.3133\nEpoch 3/50\n\u001b[1m35/35\u001b[0m \u001b[32m━━━━━━━━━━━━━━━━━━━━\u001b[0m\u001b[37m\u001b[0m \u001b[1m10s\u001b[0m 287ms/step - accuracy: 0.8786 - loss: 0.2994 - val_accuracy: 0.8646 - val_loss: 0.3917\nEpoch 4/50\n\u001b[1m35/35\u001b[0m \u001b[32m━━━━━━━━━━━━━━━━━━━━\u001b[0m\u001b[37m\u001b[0m \u001b[1m10s\u001b[0m 290ms/step - accuracy: 0.8795 - loss: 0.4210 - val_accuracy: 0.8987 - val_loss: 0.2905\nEpoch 5/50\n\u001b[1m35/35\u001b[0m \u001b[32m━━━━━━━━━━━━━━━━━━━━\u001b[0m\u001b[37m\u001b[0m \u001b[1m11s\u001b[0m 303ms/step - accuracy: 0.9033 - loss: 0.2244 - val_accuracy: 0.9480 - val_loss: 0.1497\nEpoch 6/50\n\u001b[1m35/35\u001b[0m \u001b[32m━━━━━━━━━━━━━━━━━━━━\u001b[0m\u001b[37m\u001b[0m \u001b[1m10s\u001b[0m 290ms/step - accuracy: 0.9488 - loss: 0.1417 - val_accuracy: 0.9229 - val_loss: 0.2044\nEpoch 7/50\n\u001b[1m35/35\u001b[0m \u001b[32m━━━━━━━━━━━━━━━━━━━━\u001b[0m\u001b[37m\u001b[0m \u001b[1m10s\u001b[0m 289ms/step - accuracy: 0.8639 - loss: 0.5265 - val_accuracy: 0.9049 - val_loss: 0.3039\nEpoch 8/50\n\u001b[1m35/35\u001b[0m \u001b[32m━━━━━━━━━━━━━━━━━━━━\u001b[0m\u001b[37m\u001b[0m \u001b[1m11s\u001b[0m 303ms/step - accuracy: 0.9068 - loss: 0.2316 - val_accuracy: 0.9516 - val_loss: 0.1283\nEpoch 9/50\n\u001b[1m35/35\u001b[0m \u001b[32m━━━━━━━━━━━━━━━━━━━━\u001b[0m\u001b[37m\u001b[0m \u001b[1m10s\u001b[0m 287ms/step - accuracy: 0.9621 - loss: 0.1248 - val_accuracy: 0.9417 - val_loss: 0.1605\nEpoch 10/50\n\u001b[1m35/35\u001b[0m \u001b[32m━━━━━━━━━━━━━━━━━━━━\u001b[0m\u001b[37m\u001b[0m \u001b[1m10s\u001b[0m 297ms/step - accuracy: 0.9659 - loss: 0.1010 - val_accuracy: 0.9121 - val_loss: 0.2475\nEpoch 11/50\n\u001b[1m35/35\u001b[0m \u001b[32m━━━━━━━━━━━━━━━━━━━━\u001b[0m\u001b[37m\u001b[0m \u001b[1m10s\u001b[0m 298ms/step - accuracy: 0.9350 - loss: 0.1846 - val_accuracy: 0.9552 - val_loss: 0.1743\nEpoch 12/50\n\u001b[1m35/35\u001b[0m \u001b[32m━━━━━━━━━━━━━━━━━━━━\u001b[0m\u001b[37m\u001b[0m \u001b[1m10s\u001b[0m 287ms/step - accuracy: 0.9690 - loss: 0.0971 - val_accuracy: 0.9650 - val_loss: 0.1248\nEpoch 13/50\n\u001b[1m35/35\u001b[0m \u001b[32m━━━━━━━━━━━━━━━━━━━━\u001b[0m\u001b[37m\u001b[0m \u001b[1m10s\u001b[0m 285ms/step - accuracy: 0.9657 - loss: 0.1114 - val_accuracy: 0.9776 - val_loss: 0.0764\nEpoch 14/50\n\u001b[1m35/35\u001b[0m \u001b[32m━━━━━━━━━━━━━━━━━━━━\u001b[0m\u001b[37m\u001b[0m \u001b[1m10s\u001b[0m 298ms/step - accuracy: 0.9768 - loss: 0.0715 - val_accuracy: 0.9677 - val_loss: 0.0919\nEpoch 15/50\n\u001b[1m35/35\u001b[0m \u001b[32m━━━━━━━━━━━━━━━━━━━━\u001b[0m\u001b[37m\u001b[0m \u001b[1m10s\u001b[0m 296ms/step - accuracy: 0.9682 - loss: 0.0925 - val_accuracy: 0.9686 - val_loss: 0.0906\nEpoch 16/50\n\u001b[1m35/35\u001b[0m \u001b[32m━━━━━━━━━━━━━━━━━━━━\u001b[0m\u001b[37m\u001b[0m \u001b[1m10s\u001b[0m 286ms/step - accuracy: 0.9340 - loss: 0.2251 - val_accuracy: 0.9740 - val_loss: 0.0870\nEpoch 17/50\n\u001b[1m35/35\u001b[0m \u001b[32m━━━━━━━━━━━━━━━━━━━━\u001b[0m\u001b[37m\u001b[0m \u001b[1m10s\u001b[0m 292ms/step - accuracy: 0.9769 - loss: 0.0729 - val_accuracy: 0.9830 - val_loss: 0.0684\nEpoch 18/50\n\u001b[1m35/35\u001b[0m \u001b[32m━━━━━━━━━━━━━━━━━━━━\u001b[0m\u001b[37m\u001b[0m \u001b[1m11s\u001b[0m 301ms/step - accuracy: 0.9769 - loss: 0.0658 - val_accuracy: 0.9605 - val_loss: 0.1194\nEpoch 19/50\n\u001b[1m35/35\u001b[0m \u001b[32m━━━━━━━━━━━━━━━━━━━━\u001b[0m\u001b[37m\u001b[0m \u001b[1m10s\u001b[0m 288ms/step - accuracy: 0.9784 - loss: 0.0652 - val_accuracy: 0.9857 - val_loss: 0.0582\nEpoch 20/50\n\u001b[1m35/35\u001b[0m \u001b[32m━━━━━━━━━━━━━━━━━━━━\u001b[0m\u001b[37m\u001b[0m \u001b[1m10s\u001b[0m 289ms/step - accuracy: 0.9806 - loss: 0.0620 - val_accuracy: 0.9857 - val_loss: 0.0769\nEpoch 21/50\n\u001b[1m35/35\u001b[0m \u001b[32m━━━━━━━━━━━━━━━━━━━━\u001b[0m\u001b[37m\u001b[0m \u001b[1m11s\u001b[0m 303ms/step - accuracy: 0.9816 - loss: 0.0536 - val_accuracy: 0.9874 - val_loss: 0.0580\nEpoch 22/50\n\u001b[1m35/35\u001b[0m \u001b[32m━━━━━━━━━━━━━━━━━━━━\u001b[0m\u001b[37m\u001b[0m \u001b[1m10s\u001b[0m 299ms/step - accuracy: 0.9856 - loss: 0.0498 - val_accuracy: 0.9516 - val_loss: 0.1777\nEpoch 23/50\n\u001b[1m35/35\u001b[0m \u001b[32m━━━━━━━━━━━━━━━━━━━━\u001b[0m\u001b[37m\u001b[0m \u001b[1m10s\u001b[0m 291ms/step - accuracy: 0.9725 - loss: 0.0896 - val_accuracy: 0.9596 - val_loss: 0.1185\nEpoch 24/50\n\u001b[1m35/35\u001b[0m \u001b[32m━━━━━━━━━━━━━━━━━━━━\u001b[0m\u001b[37m\u001b[0m \u001b[1m11s\u001b[0m 312ms/step - accuracy: 0.9792 - loss: 0.0598 - val_accuracy: 0.9794 - val_loss: 0.0702\nEpoch 25/50\n\u001b[1m35/35\u001b[0m \u001b[32m━━━━━━━━━━━━━━━━━━━━\u001b[0m\u001b[37m\u001b[0m \u001b[1m10s\u001b[0m 286ms/step - accuracy: 0.9806 - loss: 0.0570 - val_accuracy: 0.9848 - val_loss: 0.0745\nEpoch 26/50\n\u001b[1m35/35\u001b[0m \u001b[32m━━━━━━━━━━━━━━━━━━━━\u001b[0m\u001b[37m\u001b[0m \u001b[1m10s\u001b[0m 295ms/step - accuracy: 0.9733 - loss: 0.0827 - val_accuracy: 0.9731 - val_loss: 0.0847\nEpoch 27/50\n\u001b[1m35/35\u001b[0m \u001b[32m━━━━━━━━━━━━━━━━━━━━\u001b[0m\u001b[37m\u001b[0m \u001b[1m11s\u001b[0m 300ms/step - accuracy: 0.9805 - loss: 0.0553 - val_accuracy: 0.9883 - val_loss: 0.0537\nEpoch 28/50\n\u001b[1m35/35\u001b[0m \u001b[32m━━━━━━━━━━━━━━━━━━━━\u001b[0m\u001b[37m\u001b[0m \u001b[1m20s\u001b[0m 286ms/step - accuracy: 0.9842 - loss: 0.0613 - val_accuracy: 0.9614 - val_loss: 0.1096\nEpoch 29/50\n\u001b[1m35/35\u001b[0m \u001b[32m━━━━━━━━━━━━━━━━━━━━\u001b[0m\u001b[37m\u001b[0m \u001b[1m11s\u001b[0m 302ms/step - accuracy: 0.9523 - loss: 0.1389 - val_accuracy: 0.9740 - val_loss: 0.0798\nEpoch 30/50\n\u001b[1m35/35\u001b[0m \u001b[32m━━━━━━━━━━━━━━━━━━━━\u001b[0m\u001b[37m\u001b[0m \u001b[1m10s\u001b[0m 289ms/step - accuracy: 0.9799 - loss: 0.0595 - val_accuracy: 0.9848 - val_loss: 0.0660\nEpoch 31/50\n\u001b[1m35/35\u001b[0m \u001b[32m━━━━━━━━━━━━━━━━━━━━\u001b[0m\u001b[37m\u001b[0m \u001b[1m10s\u001b[0m 291ms/step - accuracy: 0.9870 - loss: 0.0473 - val_accuracy: 0.9812 - val_loss: 0.0716\nEpoch 32/50\n\u001b[1m35/35\u001b[0m \u001b[32m━━━━━━━━━━━━━━━━━━━━\u001b[0m\u001b[37m\u001b[0m \u001b[1m10s\u001b[0m 300ms/step - accuracy: 0.9881 - loss: 0.0396 - val_accuracy: 0.9839 - val_loss: 0.0600\nEpoch 33/50\n\u001b[1m35/35\u001b[0m \u001b[32m━━━━━━━━━━━━━━━━━━━━\u001b[0m\u001b[37m\u001b[0m \u001b[1m10s\u001b[0m 295ms/step - accuracy: 0.9870 - loss: 0.0449 - val_accuracy: 0.9883 - val_loss: 0.0516\nEpoch 34/50\n\u001b[1m35/35\u001b[0m \u001b[32m━━━━━━━━━━━━━━━━━━━━\u001b[0m\u001b[37m\u001b[0m \u001b[1m10s\u001b[0m 289ms/step - accuracy: 0.9847 - loss: 0.0563 - val_accuracy: 0.9883 - val_loss: 0.0537\nEpoch 35/50\n\u001b[1m35/35\u001b[0m \u001b[32m━━━━━━━━━━━━━━━━━━━━\u001b[0m\u001b[37m\u001b[0m \u001b[1m10s\u001b[0m 288ms/step - accuracy: 0.9833 - loss: 0.0498 - val_accuracy: 0.9803 - val_loss: 0.0860\nEpoch 36/50\n\u001b[1m35/35\u001b[0m \u001b[32m━━━━━━━━━━━━━━━━━━━━\u001b[0m\u001b[37m\u001b[0m \u001b[1m11s\u001b[0m 302ms/step - accuracy: 0.9861 - loss: 0.0543 - val_accuracy: 0.9839 - val_loss: 0.0639\nEpoch 37/50\n\u001b[1m35/35\u001b[0m \u001b[32m━━━━━━━━━━━━━━━━━━━━\u001b[0m\u001b[37m\u001b[0m \u001b[1m20s\u001b[0m 299ms/step - accuracy: 0.9782 - loss: 0.0706 - val_accuracy: 0.9839 - val_loss: 0.0606\nEpoch 38/50\n\u001b[1m35/35\u001b[0m \u001b[32m━━━━━━━━━━━━━━━━━━━━\u001b[0m\u001b[37m\u001b[0m \u001b[1m10s\u001b[0m 299ms/step - accuracy: 0.9863 - loss: 0.0407 - val_accuracy: 0.9883 - val_loss: 0.0512\nEpoch 39/50\n\u001b[1m35/35\u001b[0m \u001b[32m━━━━━━━━━━━━━━━━━━━━\u001b[0m\u001b[37m\u001b[0m \u001b[1m10s\u001b[0m 295ms/step - accuracy: 0.9884 - loss: 0.0366 - val_accuracy: 0.8843 - val_loss: 0.2604\nEpoch 40/50\n\u001b[1m35/35\u001b[0m \u001b[32m━━━━━━━━━━━━━━━━━━━━\u001b[0m\u001b[37m\u001b[0m \u001b[1m10s\u001b[0m 297ms/step - accuracy: 0.9462 - loss: 0.1633 - val_accuracy: 0.9668 - val_loss: 0.1061\nEpoch 41/50\n\u001b[1m35/35\u001b[0m \u001b[32m━━━━━━━━━━━━━━━━━━━━\u001b[0m\u001b[37m\u001b[0m \u001b[1m11s\u001b[0m 303ms/step - accuracy: 0.9568 - loss: 0.1566 - val_accuracy: 0.9830 - val_loss: 0.0896\nEpoch 42/50\n\u001b[1m35/35\u001b[0m \u001b[32m━━━━━━━━━━━━━━━━━━━━\u001b[0m\u001b[37m\u001b[0m \u001b[1m10s\u001b[0m 290ms/step - accuracy: 0.9858 - loss: 0.0544 - val_accuracy: 0.9857 - val_loss: 0.0561\nEpoch 43/50\n\u001b[1m35/35\u001b[0m \u001b[32m━━━━━━━━━━━━━━━━━━━━\u001b[0m\u001b[37m\u001b[0m \u001b[1m10s\u001b[0m 286ms/step - accuracy: 0.9888 - loss: 0.0340 - val_accuracy: 0.9830 - val_loss: 0.0680\nEpoch 44/50\n\u001b[1m35/35\u001b[0m \u001b[32m━━━━━━━━━━━━━━━━━━━━\u001b[0m\u001b[37m\u001b[0m \u001b[1m11s\u001b[0m 301ms/step - accuracy: 0.9776 - loss: 0.0710 - val_accuracy: 0.9848 - val_loss: 0.0593\nEpoch 45/50\n\u001b[1m35/35\u001b[0m \u001b[32m━━━━━━━━━━━━━━━━━━━━\u001b[0m\u001b[37m\u001b[0m \u001b[1m10s\u001b[0m 287ms/step - accuracy: 0.9894 - loss: 0.0329 - val_accuracy: 0.9713 - val_loss: 0.0918\nEpoch 46/50\n\u001b[1m35/35\u001b[0m \u001b[32m━━━━━━━━━━━━━━━━━━━━\u001b[0m\u001b[37m\u001b[0m \u001b[1m10s\u001b[0m 289ms/step - accuracy: 0.9842 - loss: 0.0524 - val_accuracy: 0.9883 - val_loss: 0.0519\nEpoch 47/50\n\u001b[1m35/35\u001b[0m \u001b[32m━━━━━━━━━━━━━━━━━━━━\u001b[0m\u001b[37m\u001b[0m \u001b[1m11s\u001b[0m 301ms/step - accuracy: 0.9890 - loss: 0.0350 - val_accuracy: 0.9874 - val_loss: 0.0599\nEpoch 48/50\n\u001b[1m35/35\u001b[0m \u001b[32m━━━━━━━━━━━━━━━━━━━━\u001b[0m\u001b[37m\u001b[0m \u001b[1m20s\u001b[0m 290ms/step - accuracy: 0.9916 - loss: 0.0308 - val_accuracy: 0.9883 - val_loss: 0.0518\n",
          "output_type": "stream"
        }
      ],
      "execution_count": null
    },
    {
      "cell_type": "code",
      "source": [
        "from sklearn.metrics import classification_report, confusion_matrix\n",
        "from sklearn.utils import shuffle\n",
        "\n",
        "loss, acc = model.evaluate(X_test, y_test)\n",
        "print(f\"accuracy: {acc:.2f}\")\n",
        "\n",
        "y_pred = (model.predict(X_test) > 0.5).astype(\"int32\")\n",
        "\n",
        "print(\"\\nreport:\")\n",
        "print(classification_report(y_test, y_pred, target_names=[\"Not Spam\", \"Spam\"]))"
      ],
      "metadata": {
        "trusted": true,
        "execution": {
          "iopub.status.busy": "2025-05-24T19:42:52.569475Z",
          "iopub.execute_input": "2025-05-24T19:42:52.570658Z",
          "iopub.status.idle": "2025-05-24T19:42:54.288537Z",
          "shell.execute_reply.started": "2025-05-24T19:42:52.570616Z",
          "shell.execute_reply": "2025-05-24T19:42:54.28749Z"
        },
        "id": "7ydBQyAuVsyl",
        "outputId": "030738ff-8306-404c-8508-490f16aac718"
      },
      "outputs": [
        {
          "name": "stdout",
          "text": "\u001b[1m35/35\u001b[0m \u001b[32m━━━━━━━━━━━━━━━━━━━━\u001b[0m\u001b[37m\u001b[0m \u001b[1m1s\u001b[0m 21ms/step - accuracy: 0.9885 - loss: 0.0535\nدقة النموذج: 0.99\n\u001b[1m35/35\u001b[0m \u001b[32m━━━━━━━━━━━━━━━━━━━━\u001b[0m\u001b[37m\u001b[0m \u001b[1m1s\u001b[0m 22ms/step\n\nتقرير التصنيف:\n              precision    recall  f1-score   support\n\n    Not Spam       0.99      1.00      0.99       966\n        Spam       0.97      0.94      0.96       149\n\n    accuracy                           0.99      1115\n   macro avg       0.98      0.97      0.97      1115\nweighted avg       0.99      0.99      0.99      1115\n\n",
          "output_type": "stream"
        }
      ],
      "execution_count": null
    }
  ]
}